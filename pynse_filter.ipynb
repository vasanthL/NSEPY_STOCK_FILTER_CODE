{
  "nbformat": 4,
  "nbformat_minor": 0,
  "metadata": {
    "colab": {
      "name": "pynse (1) (1).ipynb",
      "provenance": [],
      "collapsed_sections": [],
      "include_colab_link": true
    },
    "kernelspec": {
      "display_name": "Python 3",
      "language": "python",
      "name": "python3"
    },
    "language_info": {
      "codemirror_mode": {
        "name": "ipython",
        "version": 3
      },
      "file_extension": ".py",
      "mimetype": "text/x-python",
      "name": "python",
      "nbconvert_exporter": "python",
      "pygments_lexer": "ipython3",
      "version": "3.9.5"
    }
  },
  "cells": [
    {
      "cell_type": "markdown",
      "metadata": {
        "id": "view-in-github",
        "colab_type": "text"
      },
      "source": [
        "<a href=\"https://colab.research.google.com/github/vasanthL/NSEPY_STOCK_FILTER_CODE/blob/main/pynse_filter.ipynb\" target=\"_parent\"><img src=\"https://colab.research.google.com/assets/colab-badge.svg\" alt=\"Open In Colab\"/></a>"
      ]
    },
    {
      "cell_type": "code",
      "metadata": {
        "colab": {
          "base_uri": "https://localhost:8080/"
        },
        "id": "2hnl9JrLtqYZ",
        "outputId": "8bcf5825-d6d3-4db5-91f1-045aeee64604"
      },
      "source": [
        "# installing the nsepy module that is used to get historical data\n",
        "!pip install nsepy \n",
        "\n",
        "# colab module to download files\n",
        "from google.colab import files "
      ],
      "execution_count": 3,
      "outputs": [
        {
          "output_type": "stream",
          "text": [
            "Collecting nsepy\n",
            "  Downloading https://files.pythonhosted.org/packages/89/52/2e9f0de0c687ad181f17e0783319d31d66869c410793c5b94dc6cd4b3db2/nsepy-0.8.tar.gz\n",
            "Requirement already satisfied: beautifulsoup4 in /usr/local/lib/python3.7/dist-packages (from nsepy) (4.6.3)\n",
            "Requirement already satisfied: requests in /usr/local/lib/python3.7/dist-packages (from nsepy) (2.23.0)\n",
            "Requirement already satisfied: numpy in /usr/local/lib/python3.7/dist-packages (from nsepy) (1.19.5)\n",
            "Requirement already satisfied: pandas in /usr/local/lib/python3.7/dist-packages (from nsepy) (1.1.5)\n",
            "Requirement already satisfied: six in /usr/local/lib/python3.7/dist-packages (from nsepy) (1.15.0)\n",
            "Requirement already satisfied: click in /usr/local/lib/python3.7/dist-packages (from nsepy) (7.1.2)\n",
            "Requirement already satisfied: lxml in /usr/local/lib/python3.7/dist-packages (from nsepy) (4.2.6)\n",
            "Requirement already satisfied: idna<3,>=2.5 in /usr/local/lib/python3.7/dist-packages (from requests->nsepy) (2.10)\n",
            "Requirement already satisfied: chardet<4,>=3.0.2 in /usr/local/lib/python3.7/dist-packages (from requests->nsepy) (3.0.4)\n",
            "Requirement already satisfied: certifi>=2017.4.17 in /usr/local/lib/python3.7/dist-packages (from requests->nsepy) (2020.12.5)\n",
            "Requirement already satisfied: urllib3!=1.25.0,!=1.25.1,<1.26,>=1.21.1 in /usr/local/lib/python3.7/dist-packages (from requests->nsepy) (1.24.3)\n",
            "Requirement already satisfied: pytz>=2017.2 in /usr/local/lib/python3.7/dist-packages (from pandas->nsepy) (2018.9)\n",
            "Requirement already satisfied: python-dateutil>=2.7.3 in /usr/local/lib/python3.7/dist-packages (from pandas->nsepy) (2.8.1)\n",
            "Building wheels for collected packages: nsepy\n",
            "  Building wheel for nsepy (setup.py) ... \u001b[?25l\u001b[?25hdone\n",
            "  Created wheel for nsepy: filename=nsepy-0.8-cp37-none-any.whl size=36085 sha256=8774313fae275eab4b7f517c5299d14ded379d8c5686b5d89b23f9783410b4aa\n",
            "  Stored in directory: /root/.cache/pip/wheels/05/2c/72/5324e267426eea65dec0c21a12a48b15887c0cf686c7a8fe11\n",
            "Successfully built nsepy\n",
            "Installing collected packages: nsepy\n",
            "Successfully installed nsepy-0.8\n"
          ],
          "name": "stdout"
        }
      ]
    },
    {
      "cell_type": "code",
      "metadata": {
        "colab": {
          "base_uri": "https://localhost:8080/"
        },
        "id": "rT2rxgd4sw1Y",
        "outputId": "701a2d82-a8cd-4981-8a66-0c0f09d7ba10"
      },
      "source": [
        "# getting the get price list function\n",
        "from nsepy.history import get_price_list\n",
        "from datetime import date\n",
        "\n",
        "# date must be a trading day and not a holiday or else error will rise\n",
        "startprices = get_price_list(dt=date(2021,5,5)) \n",
        "weekprices = get_price_list(dt=date(2021,6,2)) \n",
        "todayprices = get_price_list(dt=date(2021,6,10)) \n",
        "startOHCL = startprices[['SYMBOL','OPEN','HIGH','CLOSE','LOW']]\n",
        "todayOHCL = todayprices[['SYMBOL','OPEN','HIGH','CLOSE','LOW']]\n",
        "weekOHCL = weekprices[['SYMBOL','OPEN','HIGH','CLOSE','LOW']]\n",
        "\n",
        "\n",
        "\n",
        "\n",
        "# startval = (startOHCL[startOHCL['CLOSE'] < 70]).reset_index()) - if you wanna check for stocks below 70 use this instead of below start value\n",
        "startval = (startOHCL).sort_values(by='SYMBOL').reset_index()\n",
        "\n",
        "# print((todayOHCL[todayOHCL['CLOSE']]).sort_values(by='SYMBOL',ascending=False).reset_index())\n",
        "endval= (todayOHCL).sort_values(by='SYMBOL').reset_index()\n",
        "\n",
        "weekval= (weekOHCL).sort_values(by='SYMBOL').reset_index()\n",
        "\n",
        "# setting the index to stock SYMBOL for easy iteration through the list of stocks\n",
        "startvalbyindex = startval.set_index((startval['SYMBOL']))\n",
        "print(startvalbyindex)\n",
        "endvalbyindex = endval.set_index((endval['SYMBOL']))\n",
        "weekvalbyindex = weekval.set_index((weekval['SYMBOL']))\n",
        "\n"
      ],
      "execution_count": 4,
      "outputs": [
        {
          "output_type": "stream",
          "text": [
            "            index      SYMBOL      OPEN      HIGH     CLOSE       LOW\n",
            "SYMBOL                                                               \n",
            "20MICRONS       0   20MICRONS     38.80     39.25     38.20     37.85\n",
            "21STCENMGM      1  21STCENMGM     11.90     12.25     12.25     11.90\n",
            "3IINFOTECH      2  3IINFOTECH      7.65      7.90      7.65      7.55\n",
            "3MINDIA         3     3MINDIA  25420.00  25799.00  24965.30  24870.00\n",
            "3PLAND          4      3PLAND     10.15     10.65     10.20     10.10\n",
            "...           ...         ...       ...       ...       ...       ...\n",
            "ZODJRDMKJ    1998   ZODJRDMKJ     27.10     28.45     27.10     26.30\n",
            "ZOTA         1999        ZOTA    157.75    157.75    152.35    151.55\n",
            "ZUARI        2000       ZUARI     87.75     88.00     86.25     85.45\n",
            "ZUARIGLOB    2001   ZUARIGLOB     77.45     78.35     77.15     76.65\n",
            "ZYDUSWELL    2002   ZYDUSWELL   2072.35   2129.80   2110.35   2068.00\n",
            "\n",
            "[1661 rows x 6 columns]\n"
          ],
          "name": "stdout"
        }
      ]
    },
    {
      "cell_type": "code",
      "metadata": {
        "colab": {
          "base_uri": "https://localhost:8080/",
          "height": 204
        },
        "id": "O43Cc2eqh5oy",
        "outputId": "b0819912-ac2a-450d-f6d0-bfc18dca6877"
      },
      "source": [
        "import pandas as pd\n",
        "\n",
        "# an empty list to store the list of stocks with the filter applied\n",
        "ck=[]\n",
        "\n",
        "for i in list(startval.SYMBOL):\n",
        "  try:\n",
        "    #i= '20MICRONS'\n",
        "    change = ((float((endvalbyindex.loc[i]).CLOSE))-(float((startvalbyindex.loc[i]).CLOSE)))/(float((startvalbyindex.loc[i]).CLOSE))\n",
        "    if(  change > 0.60):\n",
        "      # print(i, startvalbyindex.loc[i].CLOSE, endvalbyindex.loc[i].CLOSE ,sep='-')\n",
        "      data = [str(i), float(startvalbyindex.loc[i].CLOSE),float(weekvalbyindex.loc[i].CLOSE), float(endvalbyindex.loc[i].CLOSE), change*100 ]\n",
        "      ck.append(data)\n",
        "  except:\n",
        "    pass\n",
        "\n",
        "\n",
        "#print(ck)\n",
        "\n",
        "df = pd.DataFrame(ck, columns = ['Stock Name', 'JAN price','WEEK price','JUNE price ','change_percent'])\n",
        "new=df.sort_values(by='change_percent',ascending=False)\n",
        "\n",
        "# how the value looks like\n",
        "print(new.head(10))\n",
        "\n",
        "new.to_excel('files.xlsx')\n",
        "files.download('files.xlsx')"
      ],
      "execution_count": 5,
      "outputs": [
        {
          "output_type": "stream",
          "text": [
            "    Stock Name  JAN price  WEEK price  JUNE price   change_percent\n",
            "29  GAMMNINFRA       0.75        1.65         1.95      160.000000\n",
            "79   TIDEWATER    4445.35    11532.95     10925.35      145.770299\n",
            "25    DNAMEDIA       1.15        2.20         2.80      143.478261\n",
            "58  PNBHOUSING     358.70      693.80       816.65      127.669362\n",
            "28  EASEMYTRIP     196.95      362.70       431.05      118.862655\n",
            "53     NACLIND      39.40       53.95        85.10      115.989848\n",
            "2    ANGELBRKG     426.85      757.50       884.25      107.157081\n",
            "34         GTL       6.65       10.15        13.45      102.255639\n",
            "60        RCOM       1.65        2.60         3.30      100.000000\n",
            "78   THEMISMED     383.05      760.90       752.35       96.410390\n"
          ],
          "name": "stdout"
        },
        {
          "output_type": "display_data",
          "data": {
            "application/javascript": [
              "\n",
              "    async function download(id, filename, size) {\n",
              "      if (!google.colab.kernel.accessAllowed) {\n",
              "        return;\n",
              "      }\n",
              "      const div = document.createElement('div');\n",
              "      const label = document.createElement('label');\n",
              "      label.textContent = `Downloading \"${filename}\": `;\n",
              "      div.appendChild(label);\n",
              "      const progress = document.createElement('progress');\n",
              "      progress.max = size;\n",
              "      div.appendChild(progress);\n",
              "      document.body.appendChild(div);\n",
              "\n",
              "      const buffers = [];\n",
              "      let downloaded = 0;\n",
              "\n",
              "      const channel = await google.colab.kernel.comms.open(id);\n",
              "      // Send a message to notify the kernel that we're ready.\n",
              "      channel.send({})\n",
              "\n",
              "      for await (const message of channel.messages) {\n",
              "        // Send a message to notify the kernel that we're ready.\n",
              "        channel.send({})\n",
              "        if (message.buffers) {\n",
              "          for (const buffer of message.buffers) {\n",
              "            buffers.push(buffer);\n",
              "            downloaded += buffer.byteLength;\n",
              "            progress.value = downloaded;\n",
              "          }\n",
              "        }\n",
              "      }\n",
              "      const blob = new Blob(buffers, {type: 'application/binary'});\n",
              "      const a = document.createElement('a');\n",
              "      a.href = window.URL.createObjectURL(blob);\n",
              "      a.download = filename;\n",
              "      div.appendChild(a);\n",
              "      a.click();\n",
              "      div.remove();\n",
              "    }\n",
              "  "
            ],
            "text/plain": [
              "<IPython.core.display.Javascript object>"
            ]
          },
          "metadata": {
            "tags": []
          }
        },
        {
          "output_type": "display_data",
          "data": {
            "application/javascript": [
              "download(\"download_49c98195-2a36-4ec6-9538-e78855902808\", \"files.xlsx\", 9284)"
            ],
            "text/plain": [
              "<IPython.core.display.Javascript object>"
            ]
          },
          "metadata": {
            "tags": []
          }
        }
      ]
    },
    {
      "cell_type": "code",
      "metadata": {
        "id": "HPZUAQYbcrFh"
      },
      "source": [
        ""
      ],
      "execution_count": null,
      "outputs": []
    }
  ]
}