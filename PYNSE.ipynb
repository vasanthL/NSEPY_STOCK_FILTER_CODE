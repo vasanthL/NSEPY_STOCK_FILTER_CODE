{
  "nbformat": 4,
  "nbformat_minor": 0,
  "metadata": {
    "colab": {
      "name": "PYNSE.ipynb",
      "provenance": [],
      "collapsed_sections": []
    },
    "kernelspec": {
      "name": "python3",
      "display_name": "Python 3"
    },
    "language_info": {
      "name": "python"
    }
  },
  "cells": [
    {
      "cell_type": "code",
      "metadata": {
        "colab": {
          "base_uri": "https://localhost:8080/"
        },
        "id": "Kpfvzph5N8rq",
        "outputId": "fb4b2785-079a-4672-8a3d-b2bcd15e5f01"
      },
      "source": [
        "dt = {}\n",
        "ls = []\n",
        "\n",
        "dt['a']=15\n",
        "ls.append(dt)\n",
        "print(ls)\n",
        "dt['b']=15\n",
        "ls.append(dt['b'])\n",
        "print(ls)\n",
        "dt['c']=15\n",
        "ls.append(dt['c'])\n",
        "print(ls)"
      ],
      "execution_count": 60,
      "outputs": [
        {
          "output_type": "stream",
          "text": [
            "[{'a': 15}]\n",
            "[{'a': 15, 'b': 15}, 15]\n",
            "[{'a': 15, 'b': 15, 'c': 15}, 15, 15]\n"
          ],
          "name": "stdout"
        }
      ]
    },
    {
      "cell_type": "code",
      "metadata": {
        "colab": {
          "base_uri": "https://localhost:8080/"
        },
        "id": "2hnl9JrLtqYZ",
        "outputId": "0e5d9338-0f2c-4910-ef42-934b2773ce1e"
      },
      "source": [
        "!pip install nsepy"
      ],
      "execution_count": 2,
      "outputs": [
        {
          "output_type": "stream",
          "text": [
            "Collecting nsepy\n",
            "  Downloading https://files.pythonhosted.org/packages/89/52/2e9f0de0c687ad181f17e0783319d31d66869c410793c5b94dc6cd4b3db2/nsepy-0.8.tar.gz\n",
            "Requirement already satisfied: beautifulsoup4 in /usr/local/lib/python3.7/dist-packages (from nsepy) (4.6.3)\n",
            "Requirement already satisfied: requests in /usr/local/lib/python3.7/dist-packages (from nsepy) (2.23.0)\n",
            "Requirement already satisfied: numpy in /usr/local/lib/python3.7/dist-packages (from nsepy) (1.19.5)\n",
            "Requirement already satisfied: pandas in /usr/local/lib/python3.7/dist-packages (from nsepy) (1.1.5)\n",
            "Requirement already satisfied: six in /usr/local/lib/python3.7/dist-packages (from nsepy) (1.15.0)\n",
            "Requirement already satisfied: click in /usr/local/lib/python3.7/dist-packages (from nsepy) (7.1.2)\n",
            "Requirement already satisfied: lxml in /usr/local/lib/python3.7/dist-packages (from nsepy) (4.2.6)\n",
            "Requirement already satisfied: idna<3,>=2.5 in /usr/local/lib/python3.7/dist-packages (from requests->nsepy) (2.10)\n",
            "Requirement already satisfied: certifi>=2017.4.17 in /usr/local/lib/python3.7/dist-packages (from requests->nsepy) (2020.12.5)\n",
            "Requirement already satisfied: chardet<4,>=3.0.2 in /usr/local/lib/python3.7/dist-packages (from requests->nsepy) (3.0.4)\n",
            "Requirement already satisfied: urllib3!=1.25.0,!=1.25.1,<1.26,>=1.21.1 in /usr/local/lib/python3.7/dist-packages (from requests->nsepy) (1.24.3)\n",
            "Requirement already satisfied: python-dateutil>=2.7.3 in /usr/local/lib/python3.7/dist-packages (from pandas->nsepy) (2.8.1)\n",
            "Requirement already satisfied: pytz>=2017.2 in /usr/local/lib/python3.7/dist-packages (from pandas->nsepy) (2018.9)\n",
            "Building wheels for collected packages: nsepy\n",
            "  Building wheel for nsepy (setup.py) ... \u001b[?25l\u001b[?25hdone\n",
            "  Created wheel for nsepy: filename=nsepy-0.8-cp37-none-any.whl size=36085 sha256=aab6082878cddf77dd866c83fef64bbb6216158285ff475c406cfcc39e7f4b7a\n",
            "  Stored in directory: /root/.cache/pip/wheels/05/2c/72/5324e267426eea65dec0c21a12a48b15887c0cf686c7a8fe11\n",
            "Successfully built nsepy\n",
            "Installing collected packages: nsepy\n",
            "Successfully installed nsepy-0.8\n"
          ],
          "name": "stdout"
        }
      ]
    },
    {
      "cell_type": "code",
      "metadata": {
        "colab": {
          "base_uri": "https://localhost:8080/"
        },
        "id": "rT2rxgd4sw1Y",
        "outputId": "c00c348a-1b56-465c-dc7f-42e14cf8cdcd"
      },
      "source": [
        "from nsepy.history import get_price_list\n",
        "from datetime import date\n",
        "\n",
        "startprices = get_price_list(dt=date(2021,1,1)) \n",
        "todayprices = get_price_list(dt=date(2021,6,8)) \n",
        "startOHCL = startprices[['SYMBOL','OPEN','HIGH','CLOSE','LOW']]\n",
        "todayOHCL = todayprices[['SYMBOL','OPEN','HIGH','CLOSE','LOW']]\n",
        "\n",
        "list1 = list(range(429))\n",
        "# print(list1) \n",
        "\n",
        "\n",
        "\n",
        "# print((startOHCL[startOHCL['CLOSE'] < 70]).sort_values(by='SYMBOL').reset_index())\n",
        "startval = (startOHCL[startOHCL['CLOSE'] < 70]).sort_values(by='SYMBOL').reset_index()\n",
        "\n",
        "# print((todayOHCL[todayOHCL['CLOSE'] < 70]).sort_values(by='SYMBOL',ascending=False).reset_index())\n",
        "endval= (todayOHCL[todayOHCL['CLOSE'] < 600]).sort_values(by='SYMBOL').reset_index()\n",
        "\n",
        "#print(startval.iloc[0][1], endval, sep=\"\\n\")\n",
        "# result = dataframe1[~dataframe1.column1.isin(common.column1)]\n",
        "pct = {}\n",
        "# print(startval)\n",
        "notpresent = []\n",
        "\n",
        "startvalbyindex = startval.set_index((startval['SYMBOL']))\n",
        "endvalbyindex = endval.set_index((endval['SYMBOL']))\n",
        "\n",
        "print('---------------------------start OHCL -------------------------')\n",
        "print('Jan value', (startvalbyindex.loc['20MICRONS']))\n",
        "print('')\n",
        "print('---------------------------today OHCL -------------------------')\n",
        "print('Today value',(endvalbyindex.loc['20MICRONS']))\n",
        "\n",
        "# print('high difference' ,((int((endvalbyindex.loc['20MICRONS']).CLOSE))-(int((startvalbyindex.loc['20MICRONS']).CLOSE)))/(int((startvalbyindex.loc['20MICRONS']).CLOSE)) )\n",
        "\n",
        "\n"
      ],
      "execution_count": 58,
      "outputs": [
        {
          "output_type": "stream",
          "text": [
            "---------------------------start OHCL -------------------------\n",
            "Jan value index             0\n",
            "SYMBOL    20MICRONS\n",
            "OPEN          40.75\n",
            "HIGH           40.8\n",
            "CLOSE         40.05\n",
            "LOW            39.8\n",
            "Name: 20MICRONS, dtype: object\n",
            "\n",
            "---------------------------today OHCL -------------------------\n",
            "Today value index             0\n",
            "SYMBOL    20MICRONS\n",
            "OPEN          63.95\n",
            "HIGH           69.5\n",
            "CLOSE            66\n",
            "LOW            63.6\n",
            "Name: 20MICRONS, dtype: object\n"
          ],
          "name": "stdout"
        }
      ]
    },
    {
      "cell_type": "code",
      "metadata": {
        "colab": {
          "base_uri": "https://localhost:8080/"
        },
        "id": "O43Cc2eqh5oy",
        "outputId": "b43815a9-42af-40a5-ef0a-6db946b808dd"
      },
      "source": [
        "import pandas as pd\n",
        "ck=[]\n",
        "for i in list(startval.SYMBOL):\n",
        "  try:\n",
        "    #i= '20MICRONS'\n",
        "    change = ((int((endvalbyindex.loc[i]).CLOSE))-(int((startvalbyindex.loc[i]).CLOSE)))/(int((startvalbyindex.loc[i]).CLOSE))\n",
        "    if(change > 0.7 ):\n",
        "      # print(i, startvalbyindex.loc[i].CLOSE, endvalbyindex.loc[i].CLOSE ,sep='-')\n",
        "      data = [str(i), int(startvalbyindex.loc[i].CLOSE), int(endvalbyindex.loc[i].CLOSE), change]\n",
        "      ck.append(data)\n",
        "  except:\n",
        "    pass\n",
        "#print((list(startval.SYMBOL)))\n",
        "# print(ck)\n",
        "\n",
        "df = pd.DataFrame(ck, columns = ['Stock Name', 'JAN price','JUNE price ','change'])\n",
        "print(df.sort_values(by='change',ascending=False))\n",
        "\n",
        "df.to_csv('stocks_list.csv')"
      ],
      "execution_count": 71,
      "outputs": [
        {
          "output_type": "stream",
          "text": [
            "    Stock Name  JAN price  JUNE price     change\n",
            "46     MAJESCO         16           96  5.000000\n",
            "44       MAGMA         40          154  2.850000\n",
            "27  HEXATRADEX         33          118  2.575758\n",
            "1   ADANIPOWER         50          151  2.020000\n",
            "43        LPDC          1            3  2.000000\n",
            "..         ...        ...          ...       ...\n",
            "77  TIMETECHNO         49           85  0.734694\n",
            "66       SETCO         11           19  0.727273\n",
            "61      RENUKA         11           19  0.727273\n",
            "34        IZMO         47           80  0.702128\n",
            "22     GENESYS         67          114  0.701493\n",
            "\n",
            "[82 rows x 4 columns]\n"
          ],
          "name": "stdout"
        }
      ]
    },
    {
      "cell_type": "code",
      "metadata": {
        "colab": {
          "base_uri": "https://localhost:8080/",
          "height": 173
        },
        "id": "EnLcelMpn5xV",
        "outputId": "3cc94dab-0a9e-4238-9ed9-04d11a43f768"
      },
      "source": [
        "import pandas as pd\n",
        "\n",
        "data = [['tom', 10,20], ['nick', 15,30], ['juli', 14,40]]\n",
        "\n",
        "data.append(['roi',8,18])  \n",
        "\n",
        "# Create the pandas DataFrame\n",
        "df = pd.DataFrame(data, columns = ['Stock Name', 'JAN','JUNE'])\n",
        "  \n",
        "# print dataframe.\n",
        "df"
      ],
      "execution_count": 61,
      "outputs": [
        {
          "output_type": "execute_result",
          "data": {
            "text/html": [
              "<div>\n",
              "<style scoped>\n",
              "    .dataframe tbody tr th:only-of-type {\n",
              "        vertical-align: middle;\n",
              "    }\n",
              "\n",
              "    .dataframe tbody tr th {\n",
              "        vertical-align: top;\n",
              "    }\n",
              "\n",
              "    .dataframe thead th {\n",
              "        text-align: right;\n",
              "    }\n",
              "</style>\n",
              "<table border=\"1\" class=\"dataframe\">\n",
              "  <thead>\n",
              "    <tr style=\"text-align: right;\">\n",
              "      <th></th>\n",
              "      <th>Stock Name</th>\n",
              "      <th>JAN</th>\n",
              "      <th>JUNE</th>\n",
              "    </tr>\n",
              "  </thead>\n",
              "  <tbody>\n",
              "    <tr>\n",
              "      <th>0</th>\n",
              "      <td>tom</td>\n",
              "      <td>10</td>\n",
              "      <td>20</td>\n",
              "    </tr>\n",
              "    <tr>\n",
              "      <th>1</th>\n",
              "      <td>nick</td>\n",
              "      <td>15</td>\n",
              "      <td>30</td>\n",
              "    </tr>\n",
              "    <tr>\n",
              "      <th>2</th>\n",
              "      <td>juli</td>\n",
              "      <td>14</td>\n",
              "      <td>40</td>\n",
              "    </tr>\n",
              "    <tr>\n",
              "      <th>3</th>\n",
              "      <td>roi</td>\n",
              "      <td>8</td>\n",
              "      <td>18</td>\n",
              "    </tr>\n",
              "  </tbody>\n",
              "</table>\n",
              "</div>"
            ],
            "text/plain": [
              "  Stock Name  JAN  JUNE\n",
              "0        tom   10    20\n",
              "1       nick   15    30\n",
              "2       juli   14    40\n",
              "3        roi    8    18"
            ]
          },
          "metadata": {
            "tags": []
          },
          "execution_count": 61
        }
      ]
    }
  ]
}